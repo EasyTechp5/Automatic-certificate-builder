{
 "cells": [
  {
   "cell_type": "code",
   "execution_count": 8,
   "metadata": {},
   "outputs": [
    {
     "name": "stdout",
     "output_type": "stream",
     "text": [
      "Requirement already satisfied: fpdf in c:\\users\\saheed\\appdata\\local\\programs\\python\\python39\\lib\\site-packages (1.7.2)\n",
      "Note: you may need to restart the kernel to use updated packages.\n"
     ]
    },
    {
     "name": "stderr",
     "output_type": "stream",
     "text": [
      "\n",
      "[notice] A new release of pip available: 22.3.1 -> 24.1.2\n",
      "[notice] To update, run: python.exe -m pip install --upgrade pip\n"
     ]
    }
   ],
   "source": [
    "pip install fpdf"
   ]
  },
  {
   "cell_type": "code",
   "execution_count": 1,
   "metadata": {},
   "outputs": [],
   "source": [
    " # Automate Certificate and Send to Email\n",
    "\n",
    "# Install modules\n",
    "# pip install fpdf\n",
    "\n",
    "\n",
    "\n",
    "import smtplib\n",
    "from email.mime.multipart import MIMEMultipart\n",
    "from email.mime.text import MIMEText\n",
    "from email.mime.base import MIMEBase\n",
    "from email import encoders\n",
    "from fpdf import FPDF\n",
    "from PIL import Image,ImageFont, ImageDraw\n",
    "\n",
    "Your_full_name = str(input(\"Enter your name \"))\n",
    "Your_unique_Email = str(input(\"Enter input your Email \"))\n",
    "\n",
    "\n",
    "# Load the image\n",
    "image_path = '20240715_142837.jpg'\n",
    "image = Image.open(image_path)\n",
    "\n",
    "\n",
    "# Create a PDF class\n",
    "class PDF(FPDF):\n",
    "    def header(self):\n",
    "        # Add the image to the header\n",
    "        self.image(image_path, 10, 8, 190)\n",
    "        self.set_font('Arial', 'B', 200)\n",
    "        self.cell(0, 10, '', 0, 1, 'C')\n",
    "\n",
    "    def add_name_placeholder(self, name):\n",
    "        self.set_font('Courier', 'B', 30)\n",
    "        self.cell(0, 104, name, 0, 1, 'C')\n",
    "\n",
    "# Function to create personalized PDF\n",
    "def create_personalized_pdf(name, width=210, height=147):\n",
    "    pdf = PDF(format=(width, height))\n",
    "    pdf.add_page()\n",
    "    pdf.add_name_placeholder(name)\n",
    "    output_filename = f'Certificate_of_Completion_{name}.pdf'\n",
    "    pdf.output(output_filename)\n",
    "    return output_filename\n",
    "\n",
    "\n",
    "# Function to send email\n",
    "\n",
    "def send_email(sender_email, receiver_email, subject, body, attachment_path, smtp_server, smtp_port, smtp_user, smtp_password):\n",
    "    msg = MIMEMultipart()\n",
    "    msg['From'] = sender_email\n",
    "    msg['To'] = receiver_email\n",
    "    msg['Subject'] = subject\n",
    "\n",
    "    msg.attach(MIMEText(body, 'plain'))\n",
    "\n",
    "    attachment = open(attachment_path, 'rb')\n",
    "    part = MIMEBase('application', 'octet-stream')\n",
    "    part.set_payload(attachment.read())\n",
    "    encoders.encode_base64(part)\n",
    "    part.add_header('Content-Disposition', f'attachment; filename= {attachment_path}')\n",
    "    msg.attach(part)\n",
    "\n",
    "    server = smtplib.SMTP(smtp_server, smtp_port)\n",
    "    server.starttls()\n",
    "    server.login('afolabiisraelolajide@gmail.com', 'vxoq dyzq mher dhtd')\n",
    "    text = msg.as_string()\n",
    "    server.sendmail(sender_email, receiver_email, text)\n",
    "    server.quit()\n",
    "\n",
    "# Input function to receive user details\n",
    "\n",
    "def get_user_details(user_name, receiver_email):\n",
    "    return user_name, receiver_email\n",
    "\n",
    "tex = \"\"\"Congratulations! on completing your data analysis track with Labano Academy! \n",
    "\n",
    "\n",
    "Your dedication and passion have truly paid off.\n",
    "\n",
    "Attached is your certificate\n",
    "\n",
    "We wish you continued success in your career.\"\"\"\n",
    "\n",
    "\n",
    "# input the user name and email\n",
    "user_name, receiver_email = get_user_details(f'{Your_full_name}', f'{Your_unique_Email}')\n",
    "pdf_path = create_personalized_pdf(user_name)\n",
    "send_email('afolabiisraelolajide@gmail.com', receiver_email, 'Labano Academy Data Analysis Certificate', f'{tex}', pdf_path, 'smtp.gmail.com', 587, 'your_email@example.com', 'your_password')\n",
    "print('Email sent successfully', 'to', f'{Your_full_name}')\n"
   ]
  },
  {
   "cell_type": "code",
   "execution_count": null,
   "metadata": {},
   "outputs": [],
   "source": []
  }
 ],
 "metadata": {
  "kernelspec": {
   "display_name": "Python 3",
   "language": "python",
   "name": "python3"
  },
  "language_info": {
   "codemirror_mode": {
    "name": "ipython",
    "version": 3
   },
   "file_extension": ".py",
   "mimetype": "text/x-python",
   "name": "python",
   "nbconvert_exporter": "python",
   "pygments_lexer": "ipython3",
   "version": "3.9.13"
  }
 },
 "nbformat": 4,
 "nbformat_minor": 2
}
